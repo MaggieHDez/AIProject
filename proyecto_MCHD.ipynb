{
  "nbformat": 4,
  "nbformat_minor": 0,
  "metadata": {
    "colab": {
      "provenance": [],
      "authorship_tag": "ABX9TyPqT8Uv3IOrzdB++BzGUejg",
      "include_colab_link": true
    },
    "kernelspec": {
      "name": "python3",
      "display_name": "Python 3"
    },
    "language_info": {
      "name": "python"
    }
  },
  "cells": [
    {
      "cell_type": "markdown",
      "metadata": {
        "id": "view-in-github",
        "colab_type": "text"
      },
      "source": [
        "<a href=\"https://colab.research.google.com/github/MaggieHDez/AIProject/blob/main/proyecto_MCHD.ipynb\" target=\"_parent\"><img src=\"https://colab.research.google.com/assets/colab-badge.svg\" alt=\"Open In Colab\"/></a>"
      ]
    },
    {
      "cell_type": "markdown",
      "source": [
        "# **Proyecto de Programación para Analítica Descriptiva y Predictiva**"
      ],
      "metadata": {
        "id": "sO1pKlnkrJOI"
      }
    },
    {
      "cell_type": "markdown",
      "source": [
        "## Nombre del Proyecto: Explorando Indicadores de Salud: BMI, Glucosa e Insulina\n",
        ">Grupo: B\\\n",
        ">Autor: Margarita Cristina Hernández Delgadillo\\\n",
        ">Matrícula: 255879\\\n",
        ">Fecha: 03/11/2025"
      ],
      "metadata": {
        "id": "tf2WR19drfsn"
      }
    },
    {
      "cell_type": "markdown",
      "source": [
        "## **1. Introducción**"
      ],
      "metadata": {
        "id": "-ls_SOE_wFx9"
      }
    },
    {
      "cell_type": "markdown",
      "source": [
        "### Descripción del problema: ¿Qué queremos analizar o predecir?"
      ],
      "metadata": {
        "id": "adCAlSj-wfXY"
      }
    },
    {
      "cell_type": "markdown",
      "source": [
        "En este proyecto se busca analizar el comportamiento del BMI, la glucosa en ayunas y los niveles de insulina en la muestra, detectando posibles outliers, diferencias entre géneros y grupos etarios, y la relación entre estas variables."
      ],
      "metadata": {
        "id": "qP7Ne_8Vx9kj"
      }
    },
    {
      "cell_type": "markdown",
      "source": [
        "### Objetivo del análisis: ¿Qué impacto tendrá este análisis?"
      ],
      "metadata": {
        "id": "uCf1FC2lyAb5"
      }
    },
    {
      "cell_type": "markdown",
      "source": [
        " El objetivo es clasificar y entender mejor la salud metabólica de la población estudiada, por ejemplo, ver en qué categorías se ubica el BMI y cómo se relaciona con otras variables. Esto nos ayudará a tener una base para análisis futuros y posibles acciones para mejorar la salud."
      ],
      "metadata": {
        "id": "aMJXMLCcyDQa"
      }
    },
    {
      "cell_type": "markdown",
      "source": [
        "### Fuente de datos: ¿De dónde provienen los datos?"
      ],
      "metadata": {
        "id": "fnFROKHtyGzB"
      }
    },
    {
      "cell_type": "markdown",
      "source": [
        "Los datos utilizados provienen de un archivo CSV que contiene registros de diversas personas, incluyendo información sobre su BMI, niveles de glucosa en ayunas y niveles de insulina.\n",
        "#### Dataset\n",
        "```\n",
        "willian oliveira gibin, and Pooria Mostafapoor. (2025). Age National [Data set].\n",
        "Kaggle. https://doi.org/10.34740/KAGGLE/DSV/10587919\n",
        "```\n",
        "\n",
        "Además de este Dataset, se utilizó el DataSet de la CDC para el cálculo del BMI de niños de 2 a 19 años, esto para poder clasificar el BMI correctamente\n",
        "```\n",
        "Selected percentiles and z-scores with LMS and sigma parameters [CSV – 122 KB], CDC,\n",
        "https://www.cdc.gov/growthcharts/extended-bmi-data-files.htm\n",
        "```"
      ],
      "metadata": {
        "id": "TR2lalpxyIvl"
      }
    },
    {
      "cell_type": "markdown",
      "source": [
        "## **2. Captura y Carga de Datos**"
      ],
      "metadata": {
        "id": "tr0uhSRK6DDK"
      }
    },
    {
      "cell_type": "markdown",
      "source": [
        "### Explicación de la fuente de datos: ¿Cuáles son las fuentes de datos?, ¿Qué formato tienen los datos (CSV, SQL, API, etc.)?, ¿Cuántas observaciones y variables contiene el dataset?\n",
        "Como se mencionó anteriomente el dataset se extrajo de\n",
        "```\n",
        "willian oliveira gibin, and Pooria Mostafapoor. (2025). Age National [Data set].\n",
        "Kaggle. https://doi.org/10.34740/KAGGLE/DSV/10587919\n",
        "```\n",
        "El cual es un archivo tipo CSV con las siguiente información técnica:\n",
        "```\n",
        "- Columnas: 11\n",
        "- Filas: 2278\n",
        "- Variables:\n",
        "  - Integer: 6\n",
        "  - String: 2\n",
        "  - Decimal: 2\n",
        "  - Otras: 1\n",
        "```"
      ],
      "metadata": {
        "id": "vTntkhl82oR-"
      }
    },
    {
      "cell_type": "markdown",
      "source": [
        "También el dataset `Selected percentiles and z-scores with LMS and sigma parameters` de la CDC se extrajo de\n",
        "```\n",
        "https://www.cdc.gov/growthcharts/extended-bmi-data-files.htm\n",
        "```\n",
        "Se está usando este dataset porque incluye los puntos de referencia oficiales de la CDC para el BMI en niños. Esto significa que, gracias a estos datos, podemos comparar el BMI de cada niño con una gran base de datos de niños de la misma edad y sexo. Así, sabemos si un niño está por debajo o por encima de lo \"normal\" (por ejemplo, en el percentil 5, 85 o 95), lo que nos ayuda a clasificarlo como bajo peso, saludable, sobrepeso u obesidad."
      ],
      "metadata": {
        "id": "NLih2SIv1wws"
      }
    },
    {
      "cell_type": "markdown",
      "source": [
        "### Explicación sobre problemas en la carga de Datos y el Código para la carga de datos desde archivos (bibiotecas, etc.)"
      ],
      "metadata": {
        "id": "D_8gAgkc2GZK"
      }
    },
    {
      "cell_type": "markdown",
      "source": [
        "Estaré utilizando `pandas` para la lectura del archivo, la creación y manejo de DataFrames y para hacer operaciones de filtrado, limpieza, transformación y análisis estadístico, `matplotlib.pyplot` y `seaborn` para generar diagramas (como histogramas, boxplots y gráficos de dispersión) que ayudarán a visualizar la distribución de los datos y las relaciones entre las variables, facilitando la interpretación de los resultados.\n",
        "\n",
        "Se cargaron los datos con `pd.read_csv()` y se revisaron las primeras 5 filas con `df.head()`. De esta forma se pudo confirmar que las columnas se leen correctamente y se identificó la estructura general del dataset. Por ejemplo, se observa información sobre ID, grupo de edad, edad, género, Body Mass Index (BMI), glucosa en ayunas, niveles de insulina y otras variables.\n",
        "\n",
        "Con `df.shape` se determinó para el dataset `Age National` que el número de observaciones (filas) es 2278, y de las variables (columnas) es 11. Para `Selected percentiles and z-scores with LMS and sigma parameters` el número de oservaciones es 438 y de variables, 35."
      ],
      "metadata": {
        "id": "jHdM2_2u21YS"
      }
    },
    {
      "cell_type": "code",
      "source": [
        "# Conexión a Google Drive\n",
        "from google.colab import drive\n",
        "drive.mount('/content/drive')"
      ],
      "metadata": {
        "id": "RiAL752JpIAO",
        "colab": {
          "base_uri": "https://localhost:8080/"
        },
        "outputId": "45f1e844-2ded-4fd9-a475-d22235a9f5b0"
      },
      "execution_count": null,
      "outputs": [
        {
          "output_type": "stream",
          "name": "stdout",
          "text": [
            "Mounted at /content/drive\n"
          ]
        }
      ]
    },
    {
      "cell_type": "code",
      "execution_count": null,
      "metadata": {
        "colab": {
          "base_uri": "https://localhost:8080/"
        },
        "id": "dfIrG-gYqPIT",
        "outputId": "3875744d-28ec-4d62-c915-77a84c1e53cc"
      },
      "outputs": [
        {
          "output_type": "stream",
          "name": "stdout",
          "text": [
            "Primeras 5 filas del dataset:\n",
            "      ID Age_group  Age  Gender  PAQ605 Body Mass Index  \\\n",
            "0  73680  children   12       1       2              18   \n",
            "1  74130  children   12       1       2            14,5   \n",
            "2  74614  children   12       2       2            21,4   \n",
            "3  74658  children   12       2       2            20,3   \n",
            "4  74691  children   12       2       2            15,7   \n",
            "\n",
            "   Blood Glucose after fasting  Diabetic or not  Respondent's Oral  \\\n",
            "0                           96                2                 83   \n",
            "1                           85                2                 91   \n",
            "2                           95                2                111   \n",
            "3                           98                2                107   \n",
            "4                           91                2                 94   \n",
            "\n",
            "  Blood Insulin Levels percentage Body/Blood  \n",
            "0                 10,8               166,67%  \n",
            "1                10,86               133,52%  \n",
            "2                15,56               137,53%  \n",
            "3                13,38               151,72%  \n",
            "4                 5,01               313,37%  \n",
            "\n",
            "Número de observaciones: 2278\n",
            "Número de variables: 11\n"
          ]
        }
      ],
      "source": [
        "import pandas as pd\n",
        "import matplotlib.pyplot as plt\n",
        "import seaborn as sns\n",
        "\n",
        "# Cargar el dataset\n",
        "path = '/content/drive/MyDrive/ClassFiles/proyecto/Age National  body blood new.csv'\n",
        "df= pd.read_csv(path)\n",
        "\n",
        "# Mostrar las primeras filas para ver cómo se ven los datos\n",
        "print(\"Primeras 5 filas del dataset:\")\n",
        "print(df.head())\n",
        "\n",
        "# Número de observaciones (filas) y variables (columnas)\n",
        "num_observaciones, num_variables = df.shape\n",
        "print(\"\\nNúmero de observaciones:\", num_observaciones)\n",
        "print(\"Número de variables:\", num_variables)"
      ]
    },
    {
      "cell_type": "code",
      "source": [
        "# Cargar el dataset de la CDC\n",
        "path_cdc = '/content/drive/MyDrive/ClassFiles/proyecto/bmi-age-2022.csv'\n",
        "df_cdc= pd.read_csv(path_cdc)\n",
        "\n",
        "# Mostrar las primeras filas para ver cómo se ven los datos\n",
        "print(\"Primeras 5 filas del dataset:\")\n",
        "print(df_cdc.head())\n",
        "\n",
        "# Número de observaciones (filas) y variables (columnas)\n",
        "num_observaciones_cdc, num_variables_cdc = df_cdc.shape\n",
        "print(\"\\nNúmero de observaciones:\", num_observaciones_cdc)\n",
        "print(\"Número de variables:\", num_variables_cdc)"
      ],
      "metadata": {
        "colab": {
          "base_uri": "https://localhost:8080/"
        },
        "id": "biTMk09r3BOA",
        "outputId": "adaa199a-3527-497a-e767-53cf4bc47fdc"
      },
      "execution_count": null,
      "outputs": [
        {
          "output_type": "stream",
          "name": "stdout",
          "text": [
            "Primeras 5 filas del dataset:\n",
            "   sex  agemos         L          M         S     sigma       P3       P5  \\\n",
            "0    1    24.0 -2.011181  16.575028  0.080592  1.375600  14.5210  14.7373   \n",
            "1    1    24.5 -1.982374  16.547775  0.080127  1.395718  14.5035  14.7193   \n",
            "2    1    25.5 -1.924100  16.494428  0.079234  1.435858  14.4688  14.6836   \n",
            "3    1    26.5 -1.865498  16.442596  0.078389  1.475872  14.4346  14.6484   \n",
            "4    1    27.5 -1.807262  16.392243  0.077594  1.515759  14.4008  14.6138   \n",
            "\n",
            "       P10      P25  ...     Z0_5       Z1     Z1_5       Z2     Z2_5  \\\n",
            "0  15.0903  15.7416  ...  17.2864  18.0984  19.0374  20.3657  21.4529   \n",
            "1  15.0712  15.7196  ...  17.2532  18.0566  18.9829  20.3216  21.4247   \n",
            "2  15.0334  15.6763  ...  17.1883  17.9751  18.8775  20.2374  21.3722   \n",
            "3  14.9962  15.6340  ...  17.1256  17.8968  18.7767  20.1583  21.3247   \n",
            "4  14.9597  15.5927  ...  17.0650  17.8216  18.6805  20.0843  21.2822   \n",
            "\n",
            "        Z3     Z3_5       Z4     Z4_5       Z5  \n",
            "0  22.3802  23.2312  24.0383  24.8175  25.5777  \n",
            "1  22.3656  23.2290  24.0479  24.8385  25.6099  \n",
            "2  22.3401  23.2284  24.0708  24.8842  25.6777  \n",
            "3  22.3196  23.2326  24.0986  24.9346  25.7502  \n",
            "4  22.3040  23.2417  24.1310  24.9897  25.8274  \n",
            "\n",
            "[5 rows x 35 columns]\n",
            "\n",
            "Número de observaciones: 438\n",
            "Número de variables: 35\n"
          ]
        }
      ]
    },
    {
      "cell_type": "markdown",
      "source": [
        "## 3. Transformación y Preprocesamiento - Data Wrangling"
      ],
      "metadata": {
        "id": "ZcMpFUjrrSMs"
      }
    },
    {
      "cell_type": "markdown",
      "source": [
        "### Identificación de Tipos de Datos\n",
        "\n",
        "Con `df.info()` se determinó que el dataset cuenta con **2278 observaciones** y **11 variables**. Entre estas columnas se encuentran:\n",
        "- **ID**: Identificador único (`int64`).\n",
        "- **Age_group**: Grupo etario (`object`).\n",
        "- **Age**: Edad (`int64`).\n",
        "- **Género**: 1 representa masculino y 2 femenino (`int64`).\n",
        "- **PAQ605**: Variable que representa la actividad laboral vigorosa, donde 1 es Sí, 2 No, 7 se negó a responder y 9 no sabe (`int64`).\n",
        "- **Body Mass Index**: Índice de masa corporal, almacenado como tipo `object`.\n",
        "- **Blood Glucose after fasting**: Glucosa en ayunas (`int64`).\n",
        "- **Diabetic or not**: Estado diabético, donde 1 es Sí, 2 es No y 3 es prediabético (`int64`).\n",
        "- **Respondent's Oral**: El nivel de glucosa oral (`int64`).\n",
        "- **Blood Insulin Levels**: Niveles de insulina de tipo `object`.\n",
        "- **percentage Body/Blood**: Porcentaje relacionado entre cuerpo e insuline en la sangre (también almacenado como `object`).\n",
        "\n",
        "### Valores nulo\n",
        "\n",
        "Aunque `df.info()` mostró que no hay datos nulos, se ejecutó `df.isnull().sum()` para confirmar que efectivamente no existen valores faltantes en ninguna columna. Esto nos da la confianza de que el dataset está completo y listo para el análisis.\n",
        "\n",
        "### Observaciones adicionales\n",
        "\n",
        "Se realizó la búsqueda de registros duplicados y su eliminación si es que hay y no aportan información adicional. Tambien se creó un boxplot para detectar datos atípicos en el DataSet.\n",
        "\n",
        "La función `df.describe()` inicial nos dió un resumen de estadísticas básicas (media, desviación estándar, percentiles, etc.) para las variables numéricas. Esto permitió identificar rangos, posibles outliers y comprender la distribución de los datos.\n",
        "\n",
        "Una vez hecho el Data Wrangling se realizaran nuevamente `df.info()` y `df.describe()` para verificar el cambio.\n",
        "\n",
        "Algunas columnas del dataset con las que se desea trabajar, como `Body Mass Index` y `Blood Insulin Levels`, están almacenadas como tipo `object`, lo que indica la necesidad de conversión a tipo numérico para poder trabajar con ellas. Ya que se encontró que los datos de estas columnas utilizan \",\" en vez de \".\" para los números decimales, también se va a realizar el reemplazo de las comas a punto.\n",
        "\n",
        "Otras observaciones son el transformar las variables `Gender`, `PAQ605` y `Diabetic or not` a variables categóricas, ya que estas representan clases o categorías; el convertir estas variables facilita el análisis de la información. Puedo también crear nuevas variable para categorizar el BMI como `Underweight`, `Healthy`, `Overweight`, `Obesity`, etc. y la glucosa como `Normal`, `Prediabetes` y `Diabetes`.\n",
        "\n",
        "Para poder crear las variables de clasificación del BMI en caso de los niños de 2 a 19 años se deben utilizar las columnad `sex`, `agemos`, `p5`, `p85`, `p95` y `pct120ofP95` del archivo de la CDC incorporando estas y las columnas del Dataset `Age National` en un solo DataFrame. También se debe crear una columna `Age_in_months` en el Dataset `Age National` para poder comparar entre los dos archivos y clasificar el BMI.\n",
        "\n",
        "También es recomendable la normalizacion de los nombres de las columnas para mejorar la legibilidad del código y prevenir errores en el procesamiento de los datos, especialmente al referirse a columnas en funciones o al aplicar transformaciones.\n",
        "\n",
        "Para terminar se realizó un boxplot para detectar los outliers (con la columna `body_mass_index`) y utilizar la eliminación para remover valores atípicos y verificar si es recomendable el eliminarlos o no, pero se estará investigando un poco más para que los resultados sean correctos"
      ],
      "metadata": {
        "id": "ByQ0jJaptvG0"
      }
    },
    {
      "cell_type": "markdown",
      "source": [
        "### Código para Transformación y Preprocesamiento"
      ],
      "metadata": {
        "id": "UQEIqGTXvHGR"
      }
    },
    {
      "cell_type": "code",
      "source": [
        "# ---------------------------------Inicio información DATASET Age National ---------------------------------------------\n",
        "# Obtener información general del dataset\n",
        "print(\"Información del dataset Age National:\")\n",
        "print(df.info())\n",
        "\n",
        "# Verificar datos faltantes en cada columna\n",
        "faltantes = df.isnull().sum()\n",
        "print(\"\\nDatos faltantes por columna:\")\n",
        "print(faltantes)\n",
        "\n",
        "# Manejo de duplicados\n",
        "duplicados = df.duplicated().sum()\n",
        "if duplicados > 0:\n",
        "  df.drop_duplicates(inplace=True)\n",
        "  print(\"\\nNúmero de filas duplicadas:\", duplicados)\n",
        "else:\n",
        "  print(\"\\nNo hay filas duplicadas en el dataset.\")\n",
        "\n",
        "# Obtener estadísticas descriptivas básicas para ver distribución y rangos\n",
        "print(\"\\nEstadísticas descriptivas:\")\n",
        "print(df.describe())\n",
        "\n",
        "# ---------------------------------Fin DATASET Age National ---------------------------------------------\n",
        "# ---------------------------------Inicio información DATASET CDC ---------------------------------------------\n",
        "# Obtener información general del dataset\n",
        "print(\"\\nInformación del dataset de la CDC:\")\n",
        "print(df_cdc.info())\n",
        "\n",
        "# Verificar datos faltantes en cada columna\n",
        "faltantes = df_cdc.isnull().sum()\n",
        "print(\"\\nDatos faltantes por columna:\")\n",
        "print(faltantes)\n",
        "\n",
        "# Manejo de duplicados\n",
        "duplicados = df_cdc.duplicated().sum()\n",
        "if duplicados > 0:\n",
        "  df_cdc.drop_duplicates(inplace=True)\n",
        "  print(\"\\nNúmero de filas duplicadas:\", duplicados)\n",
        "else:\n",
        "  print(\"\\nNo hay filas duplicadas en el dataset.\")\n",
        "\n",
        "# Obtener estadísticas descriptivas básicas para ver distribución y rangos\n",
        "print(\"\\nEstadísticas descriptivas:\")\n",
        "print(df_cdc.describe())\n",
        "\n",
        "# ---------------------------------Fin DATASET CDC ---------------------------------------------\n",
        "# Conversión de tipos de datos, solo Body Mass Index y Blood Insulin Levels\n",
        "# Reemplazamos también la coma por un punto\n",
        "df['Body Mass Index'] = pd.to_numeric(df['Body Mass Index'].str.replace(',', '.'), errors='coerce')\n",
        "df['Blood Insulin Levels'] = pd.to_numeric(df['Blood Insulin Levels'].str.replace(',', '.'), errors='coerce')\n",
        "\n",
        "# Transformación a variables categóricas\n",
        "df['PAQ605'] = df['PAQ605'].astype('category')\n",
        "df['Diabetic or not'] = df['Diabetic or not'].astype('category')\n",
        "df['Age_group'] = df['Age_group'].astype('category')\n",
        "\n",
        "# Renombrar las categorías utilizando cat.rename_categories\n",
        "df['PAQ605'] = df['PAQ605'].cat.rename_categories({1: 'Yes', 2: 'No', 7: 'Refused', 9: \"Don't know\"})\n",
        "df['Diabetic or not'] = df['Diabetic or not'].cat.rename_categories({1: 'Yes', 2: 'No', 3: 'Prediabetes'})\n",
        "df['Age_group'] = df['Age_group'].cat.rename_categories({'children': 'Children'})\n",
        "\n",
        "# Nueva variable de Edad en meses\n",
        "df['Age_in_months'] = df['Age'] * 12 + 0.5 # Se agrega 0.5 para igualarlo al dataset de la CDC\n",
        "\n",
        "# DataFrame con solo las columnas necesarias para clasificación\n",
        "df_cdc = df_cdc[['sex', 'agemos', 'P5', 'P85', 'P95', 'pct120ofP95']]\n",
        "\n",
        "# Incorporación del DataSet y las columnas del DataSet de la CDC en uno\n",
        "df_fusion = pd.merge(df, df_cdc, left_on=['Age_in_months', 'Gender'], right_on=['agemos', 'sex'], how='left')\n",
        "\n",
        "# Función para clasificar el BMI usando los puntos de referancia del CDC\n",
        "def categorize_bmi_cdc(row):\n",
        "    bmi = row['Body Mass Index']\n",
        "    age_group = row['Age_group']\n",
        "    if age_group == 'Children':\n",
        "    # Se verifica que existan los datos CDC necesarios\n",
        "      if pd.isnull(row['P5']) or pd.isnull(row['P85']) or pd.isnull(row['P95']) or pd.isnull(row['pct120ofP95']):\n",
        "        return \"Sin datos CDC\"\n",
        "      if bmi < row['P5']:\n",
        "          return \"Underweight\"\n",
        "      elif bmi < row['P85']:\n",
        "          return \"Healthy\"\n",
        "      elif bmi < row['P95']:\n",
        "          return \"Overweight\"\n",
        "      elif bmi < row['pct120ofP95']:\n",
        "          return \"Obesity\"\n",
        "      else:\n",
        "          return \"Severe Obesity\"\n",
        "    else:\n",
        "      if bmi < 18.5:\n",
        "          return \"Underweight\"\n",
        "      elif bmi >=18.5 and bmi < 24.9:\n",
        "          return \"Healthy\"\n",
        "      elif bmi >=25 and bmi < 29.9:\n",
        "          return \"Overweight\"\n",
        "      elif bmi >=30 and bmi < 39.9:\n",
        "          return \"Obesity\"\n",
        "      else:\n",
        "          return \"Severe Obesity\"\n",
        "\n",
        "# Aplicar la función para crear una nueva columna de clasificación del BMI según la CDC\n",
        "df['BMI_category'] = df_fusion.apply(categorize_bmi_cdc, axis=1)\n",
        "\n",
        "# Transformamos despues de hacer la fusion de columnas y clasificación del BMI\n",
        "df['Gender'] = df['Gender'].astype('category')\n",
        "df['Gender'] = df['Gender'].cat.rename_categories({1: 'Male', 2: 'Female'})\n",
        "\n",
        "# Nueva variable para categorizar la glucosa\n",
        "df['Glucose_category'] = pd.cut(df['Blood Glucose after fasting'], bins=[0, 99, 125, df['Blood Glucose after fasting'].max()],\n",
        "                                labels=['Normal', 'Prediabetes', 'Diabetes'])\n",
        "\n",
        "print('\\n*******************************************************************\\n')\n",
        "\n",
        "# Normalizacion de columnas\n",
        "print(\"\\nColumnas originales:\\n\", df.columns)\n",
        "# Convierte a minúsculas y reemplaza espacios con guión bajo\n",
        "df.columns = df.columns.str.lower().str.replace(\" \", \"_\")\n",
        "\n",
        "# Imprimir los nuevos nombres de las columnas\n",
        "print(\"\\nNuevos nombres en minúsculas y con guión bajo:\\n\", df.columns)\n",
        "\n",
        "print('\\n*******************************************************************\\n')\n",
        "\n",
        "print('\\n Verificación de datos:\\n', df.head())\n",
        "\n",
        "print('\\n*******************************************************************\\n')\n",
        "\n",
        "print(\"\\nInformación del dataset despues de preprocesamiento:\")\n",
        "print(df.info())\n",
        "\n",
        "print('\\n*******************************************************************\\n')\n",
        "\n",
        "print(\"\\nEstadísticas descriptivas:\\n\")\n",
        "print(df.describe())\n",
        "\n",
        "# Detección de outliers con boxplot\n",
        "randframe = df[['body_mass_index', 'blood_glucose_after_fasting', 'blood_insulin_levels']]\n",
        "\n",
        "fig, ax = plt.subplots(1, 3, figsize=(15, 5))\n",
        "for i, col in enumerate(randframe.columns):\n",
        "    ax[i].boxplot(df[col].dropna())\n",
        "    ax[i].set_title(col)\n",
        "plt.show()\n",
        "\n",
        "#imprimir las estadísticas del conjunto original\n",
        "print(\"\\nResumen estadístico en la Columna body_mass_index antes de la Eliminación :\")\n",
        "print(randframe['body_mass_index'].describe())\n",
        "\n",
        "# Identificación por medio del método IQR\n",
        "Q1 = randframe['body_mass_index'].quantile(0.25)\n",
        "Q3 = randframe['body_mass_index'].quantile(0.75)\n",
        "IQR = Q3 - Q1\n",
        "\n",
        "outlier_threshold = 1.5\n",
        "lower_bound = Q1 - outlier_threshold * IQR\n",
        "upper_bound = Q3 + outlier_threshold * IQR\n",
        "\n",
        "#Obtiene un conjunto\n",
        "rd_no_outliers = randframe[(randframe['body_mass_index'] >= lower_bound) & (randframe['body_mass_index'] <= upper_bound)].copy()\n",
        "\n",
        "# Imprime el resumen estadísticos después de eliminar los outliers\n",
        "print(\"\\nResumen estadístico en la Columna body_mass_index después de la Eliminación :\")\n",
        "print(rd_no_outliers['body_mass_index'].describe())\n",
        "\n",
        "# Gráfica de las distribuciones después del manejo de ouliers\n",
        "plt.figure(figsize=(12, 5))\n",
        "\n",
        "plt.subplot(1, 2, 1)\n",
        "plt.title(\"Distribución de 'body_mass_index' Antes de Eliminar Outlier\")\n",
        "plt.hist(randframe['body_mass_index'], bins=10, color='blue', alpha=0.7, label='Original')\n",
        "plt.legend()\n",
        "\n",
        "plt.subplot(1, 2, 2)\n",
        "plt.title(\"Distribución de 'body_mass_index' Después de Eliminar Outlier\")\n",
        "plt.hist(rd_no_outliers['body_mass_index'], bins=10, color='orange', alpha=0.7, label='Limpio')\n",
        "plt.legend()\n",
        "\n",
        "plt.tight_layout()\n",
        "plt.show()\n",
        "\n",
        "\n",
        "# Diagrama de Cajas antes y después\n",
        "\n",
        "fig, axes = plt.subplots(1, 2, figsize=(12, 5), sharey=True)\n",
        "\n",
        "sns.boxplot(y=randframe['body_mass_index'], ax=axes[0], color='skyblue')\n",
        "axes[0].set_title('Original')\n",
        "\n",
        "sns.boxplot(y=rd_no_outliers['body_mass_index'], ax=axes[1], color='skyblue')\n",
        "axes[1].set_title('Limpia')"
      ],
      "metadata": {
        "colab": {
          "base_uri": "https://localhost:8080/",
          "height": 1000
        },
        "id": "n1UkNflYvGUY",
        "outputId": "10f2f7da-43a6-426b-c9ad-5ef4b67846f6"
      },
      "execution_count": null,
      "outputs": [
        {
          "output_type": "stream",
          "name": "stdout",
          "text": [
            "Información del dataset Age National:\n",
            "<class 'pandas.core.frame.DataFrame'>\n",
            "RangeIndex: 2278 entries, 0 to 2277\n",
            "Data columns (total 11 columns):\n",
            " #   Column                       Non-Null Count  Dtype \n",
            "---  ------                       --------------  ----- \n",
            " 0   ID                           2278 non-null   int64 \n",
            " 1   Age_group                    2278 non-null   object\n",
            " 2   Age                          2278 non-null   int64 \n",
            " 3   Gender                       2278 non-null   int64 \n",
            " 4   PAQ605                       2278 non-null   int64 \n",
            " 5   Body Mass Index              2278 non-null   object\n",
            " 6   Blood Glucose after fasting  2278 non-null   int64 \n",
            " 7   Diabetic or not              2278 non-null   int64 \n",
            " 8   Respondent's Oral            2278 non-null   int64 \n",
            " 9   Blood Insulin Levels         2278 non-null   object\n",
            " 10  percentage Body/Blood        2278 non-null   object\n",
            "dtypes: int64(7), object(4)\n",
            "memory usage: 195.9+ KB\n",
            "None\n",
            "\n",
            "Datos faltantes por columna:\n",
            "ID                             0\n",
            "Age_group                      0\n",
            "Age                            0\n",
            "Gender                         0\n",
            "PAQ605                         0\n",
            "Body Mass Index                0\n",
            "Blood Glucose after fasting    0\n",
            "Diabetic or not                0\n",
            "Respondent's Oral              0\n",
            "Blood Insulin Levels           0\n",
            "percentage Body/Blood          0\n",
            "dtype: int64\n",
            "\n",
            "No hay filas duplicadas en el dataset.\n",
            "\n",
            "Estadísticas descriptivas:\n",
            "                 ID          Age       Gender       PAQ605  \\\n",
            "count   2278.000000  2278.000000  2278.000000  2278.000000   \n",
            "mean   78691.853819    41.795874     1.511414     1.822651   \n",
            "std     2921.365151    20.156111     0.499979     0.398918   \n",
            "min    73564.000000    12.000000     1.000000     1.000000   \n",
            "25%    76171.750000    24.000000     1.000000     2.000000   \n",
            "50%    78749.000000    41.000000     2.000000     2.000000   \n",
            "75%    81213.500000    58.000000     2.000000     2.000000   \n",
            "max    83727.000000    80.000000     2.000000     7.000000   \n",
            "\n",
            "       Blood Glucose after fasting  Diabetic or not  Respondent's Oral  \n",
            "count                  2278.000000      2278.000000        2278.000000  \n",
            "mean                     99.553117         2.016242         114.978929  \n",
            "std                      17.889834         0.185556          47.061239  \n",
            "min                      63.000000         1.000000          40.000000  \n",
            "25%                      91.000000         2.000000          87.000000  \n",
            "50%                      97.000000         2.000000         105.000000  \n",
            "75%                     104.000000         2.000000         130.000000  \n",
            "max                     405.000000         3.000000         604.000000  \n",
            "\n",
            "Información del dataset de la CDC:\n",
            "<class 'pandas.core.frame.DataFrame'>\n",
            "RangeIndex: 438 entries, 0 to 437\n",
            "Data columns (total 35 columns):\n",
            " #   Column       Non-Null Count  Dtype  \n",
            "---  ------       --------------  -----  \n",
            " 0   sex          438 non-null    int64  \n",
            " 1   agemos       438 non-null    float64\n",
            " 2   L            438 non-null    float64\n",
            " 3   M            438 non-null    float64\n",
            " 4   S            438 non-null    float64\n",
            " 5   sigma        438 non-null    float64\n",
            " 6   P3           438 non-null    float64\n",
            " 7   P5           438 non-null    float64\n",
            " 8   P10          438 non-null    float64\n",
            " 9   P25          438 non-null    float64\n",
            " 10  P50          438 non-null    float64\n",
            " 11  P75          438 non-null    float64\n",
            " 12  P85          438 non-null    float64\n",
            " 13  P90          438 non-null    float64\n",
            " 14  P95          438 non-null    float64\n",
            " 15  P98          438 non-null    float64\n",
            " 16  P99          438 non-null    float64\n",
            " 17  P99_9        438 non-null    float64\n",
            " 18  P99_99       438 non-null    float64\n",
            " 19  pct120ofP95  438 non-null    float64\n",
            " 20  Z2neg        438 non-null    float64\n",
            " 21  Z1_5neg      438 non-null    float64\n",
            " 22  Z1neg        438 non-null    float64\n",
            " 23  Z0_5neg      438 non-null    float64\n",
            " 24  Z0           438 non-null    float64\n",
            " 25  Z0_5         438 non-null    float64\n",
            " 26  Z1           438 non-null    float64\n",
            " 27  Z1_5         438 non-null    float64\n",
            " 28  Z2           438 non-null    float64\n",
            " 29  Z2_5         438 non-null    float64\n",
            " 30  Z3           438 non-null    float64\n",
            " 31  Z3_5         438 non-null    float64\n",
            " 32  Z4           438 non-null    float64\n",
            " 33  Z4_5         438 non-null    float64\n",
            " 34  Z5           438 non-null    float64\n",
            "dtypes: float64(34), int64(1)\n",
            "memory usage: 119.9 KB\n",
            "None\n",
            "\n",
            "Datos faltantes por columna:\n",
            "sex            0\n",
            "agemos         0\n",
            "L              0\n",
            "M              0\n",
            "S              0\n",
            "sigma          0\n",
            "P3             0\n",
            "P5             0\n",
            "P10            0\n",
            "P25            0\n",
            "P50            0\n",
            "P75            0\n",
            "P85            0\n",
            "P90            0\n",
            "P95            0\n",
            "P98            0\n",
            "P99            0\n",
            "P99_9          0\n",
            "P99_99         0\n",
            "pct120ofP95    0\n",
            "Z2neg          0\n",
            "Z1_5neg        0\n",
            "Z1neg          0\n",
            "Z0_5neg        0\n",
            "Z0             0\n",
            "Z0_5           0\n",
            "Z1             0\n",
            "Z1_5           0\n",
            "Z2             0\n",
            "Z2_5           0\n",
            "Z3             0\n",
            "Z3_5           0\n",
            "Z4             0\n",
            "Z4_5           0\n",
            "Z5             0\n",
            "dtype: int64\n",
            "\n",
            "No hay filas duplicadas en el dataset.\n",
            "\n",
            "Estadísticas descriptivas:\n",
            "              sex      agemos           L           M           S       sigma  \\\n",
            "count  438.000000  438.000000  438.000000  438.000000  438.000000  438.000000   \n",
            "mean     1.500000  132.495434   -2.353227   18.006030    0.119603    4.757669   \n",
            "std      0.500572   63.275812    0.517726    2.418174    0.027010    1.763756   \n",
            "min      1.000000   24.000000   -3.352894   15.149168    0.071462    1.375600   \n",
            "25%      1.000000   77.750000   -2.718042   15.747726    0.092325    3.275955   \n",
            "50%      1.500000  132.500000   -2.253398   17.331723    0.132244    4.903419   \n",
            "75%      2.000000  187.250000   -1.983766   20.234542    0.143749    6.303860   \n",
            "max      2.000000  240.500000   -0.986609   23.041377    0.153241    7.831031   \n",
            "\n",
            "               P3          P5         P10         P25  ...        Z0_5  \\\n",
            "count  438.000000  438.000000  438.000000  438.000000  ...  438.000000   \n",
            "mean    14.986611   15.275771   15.760097   16.699572  ...   19.238330   \n",
            "std      1.600571    1.671016    1.792808    2.042384  ...    2.802990   \n",
            "min     13.212500   13.416300   13.746400   14.354800  ...   15.853400   \n",
            "25%     13.626975   13.839125   14.190225   14.856450  ...   16.531425   \n",
            "50%     14.309500   14.577500   15.026800   15.955000  ...   18.651850   \n",
            "75%     16.345375   16.708025   17.329200   18.533550  ...   21.863275   \n",
            "max     18.717100   19.135400   19.834900   21.185300  ...   24.759000   \n",
            "\n",
            "               Z1        Z1_5          Z2        Z2_5          Z3        Z3_5  \\\n",
            "count  438.000000  438.000000  438.000000  438.000000  438.000000  438.000000   \n",
            "mean    20.818765   22.967793   27.309209   31.069229   34.276559   37.219676   \n",
            "std      3.339843    4.150277    5.760495    7.135486    8.313346    9.396649   \n",
            "min     16.692400   17.578800   19.531000   21.111900   22.285900   23.228400   \n",
            "25%     17.482600   18.684625   21.390550   23.981650   26.212675   28.213250   \n",
            "50%     20.373200   22.764600   27.320550   31.197000   34.498100   37.535500   \n",
            "75%     23.979275   26.831200   32.547650   37.518250   41.759300   45.665575   \n",
            "max     26.899200   30.216900   37.649600   43.838500   49.117700   53.962000   \n",
            "\n",
            "               Z4        Z4_5          Z5  \n",
            "count  438.000000  438.000000  438.000000  \n",
            "mean    40.011147   42.706158   45.335549  \n",
            "std     10.425633   11.420063   12.391006  \n",
            "min     24.038300   24.817500   25.577700  \n",
            "25%     30.157325   32.035375   33.830700  \n",
            "50%     40.409350   43.192950   45.900650  \n",
            "75%     49.351975   52.910700   56.405600  \n",
            "max     58.556700   62.992700   67.320600  \n",
            "\n",
            "[8 rows x 35 columns]\n",
            "\n",
            "*******************************************************************\n",
            "\n",
            "\n",
            "Columnas originales:\n",
            " Index(['ID', 'Age_group', 'Age', 'Gender', 'PAQ605', 'Body Mass Index',\n",
            "       'Blood Glucose after fasting', 'Diabetic or not', 'Respondent's Oral',\n",
            "       'Blood Insulin Levels', 'percentage Body/Blood', 'Age_in_months',\n",
            "       'BMI_category', 'Glucose_category'],\n",
            "      dtype='object')\n",
            "\n",
            "Nuevos nombres en minúsculas y con guión bajo:\n",
            " Index(['id', 'age_group', 'age', 'gender', 'paq605', 'body_mass_index',\n",
            "       'blood_glucose_after_fasting', 'diabetic_or_not', 'respondent's_oral',\n",
            "       'blood_insulin_levels', 'percentage_body/blood', 'age_in_months',\n",
            "       'bmi_category', 'glucose_category'],\n",
            "      dtype='object')\n",
            "\n",
            "*******************************************************************\n",
            "\n",
            "\n",
            " Verificación de datos:\n",
            "       id age_group  age  gender paq605  body_mass_index  \\\n",
            "0  73680  Children   12    Male     No             18.0   \n",
            "1  74130  Children   12    Male     No             14.5   \n",
            "2  74614  Children   12  Female     No             21.4   \n",
            "3  74658  Children   12  Female     No             20.3   \n",
            "4  74691  Children   12  Female     No             15.7   \n",
            "\n",
            "   blood_glucose_after_fasting diabetic_or_not  respondent's_oral  \\\n",
            "0                           96              No                 83   \n",
            "1                           85              No                 91   \n",
            "2                           95              No                111   \n",
            "3                           98              No                107   \n",
            "4                           91              No                 94   \n",
            "\n",
            "   blood_insulin_levels percentage_body/blood  age_in_months bmi_category  \\\n",
            "0                 10.80               166,67%          144.5      Healthy   \n",
            "1                 10.86               133,52%          144.5  Underweight   \n",
            "2                 15.56               137,53%          144.5      Healthy   \n",
            "3                 13.38               151,72%          144.5      Healthy   \n",
            "4                  5.01               313,37%          144.5      Healthy   \n",
            "\n",
            "  glucose_category  \n",
            "0           Normal  \n",
            "1           Normal  \n",
            "2           Normal  \n",
            "3           Normal  \n",
            "4           Normal  \n",
            "\n",
            "*******************************************************************\n",
            "\n",
            "\n",
            "Información del dataset despues de preprocesamiento:\n",
            "<class 'pandas.core.frame.DataFrame'>\n",
            "RangeIndex: 2278 entries, 0 to 2277\n",
            "Data columns (total 14 columns):\n",
            " #   Column                       Non-Null Count  Dtype   \n",
            "---  ------                       --------------  -----   \n",
            " 0   id                           2278 non-null   int64   \n",
            " 1   age_group                    2278 non-null   category\n",
            " 2   age                          2278 non-null   int64   \n",
            " 3   gender                       2278 non-null   category\n",
            " 4   paq605                       2278 non-null   category\n",
            " 5   body_mass_index              2278 non-null   float64 \n",
            " 6   blood_glucose_after_fasting  2278 non-null   int64   \n",
            " 7   diabetic_or_not              2278 non-null   category\n",
            " 8   respondent's_oral            2278 non-null   int64   \n",
            " 9   blood_insulin_levels         2278 non-null   float64 \n",
            " 10  percentage_body/blood        2278 non-null   object  \n",
            " 11  age_in_months                2278 non-null   float64 \n",
            " 12  bmi_category                 2278 non-null   object  \n",
            " 13  glucose_category             2278 non-null   category\n",
            "dtypes: category(5), float64(3), int64(4), object(2)\n",
            "memory usage: 172.1+ KB\n",
            "None\n",
            "\n",
            "*******************************************************************\n",
            "\n",
            "\n",
            "Estadísticas descriptivas:\n",
            "\n",
            "                 id          age  body_mass_index  \\\n",
            "count   2278.000000  2278.000000      2278.000000   \n",
            "mean   78691.853819    41.795874        27.955180   \n",
            "std     2921.365151    20.156111         7.248962   \n",
            "min    73564.000000    12.000000        14.500000   \n",
            "25%    76171.750000    24.000000        22.800000   \n",
            "50%    78749.000000    41.000000        26.800000   \n",
            "75%    81213.500000    58.000000        31.200000   \n",
            "max    83727.000000    80.000000        70.100000   \n",
            "\n",
            "       blood_glucose_after_fasting  respondent's_oral  blood_insulin_levels  \\\n",
            "count                  2278.000000        2278.000000           2278.000000   \n",
            "mean                     99.553117         114.978929             11.834794   \n",
            "std                      17.889834          47.061239              9.718812   \n",
            "min                      63.000000          40.000000              0.140000   \n",
            "25%                      91.000000          87.000000              5.860000   \n",
            "50%                      97.000000         105.000000              9.040000   \n",
            "75%                     104.000000         130.000000             14.440000   \n",
            "max                     405.000000         604.000000            102.290000   \n",
            "\n",
            "       age_in_months  \n",
            "count    2278.000000  \n",
            "mean      502.050483  \n",
            "std       241.873332  \n",
            "min       144.500000  \n",
            "25%       288.500000  \n",
            "50%       492.500000  \n",
            "75%       696.500000  \n",
            "max       960.500000  \n"
          ]
        },
        {
          "output_type": "display_data",
          "data": {
            "text/plain": [
              "<Figure size 1500x500 with 3 Axes>"
            ],
            "image/png": "[encoded data removed]"
          },
          "metadata": {}
        },
        {
          "output_type": "stream",
          "name": "stdout",
          "text": [
            "\n",
            "Resumen estadístico en la Columna body_mass_index antes de la Eliminación :\n",
            "count    2278.000000\n",
            "mean       27.955180\n",
            "std         7.248962\n",
            "min        14.500000\n",
            "25%        22.800000\n",
            "50%        26.800000\n",
            "75%        31.200000\n",
            "max        70.100000\n",
            "Name: body_mass_index, dtype: float64\n",
            "\n",
            "Resumen estadístico en la Columna body_mass_index después de la Eliminación :\n",
            "count    2190.000000\n",
            "mean       27.073790\n",
            "std         5.775824\n",
            "min        14.500000\n",
            "25%        22.700000\n",
            "50%        26.600000\n",
            "75%        30.600000\n",
            "max        43.800000\n",
            "Name: body_mass_index, dtype: float64\n"
          ]
        },
        {
          "output_type": "display_data",
          "data": {
            "text/plain": [
              "<Figure size 1200x500 with 2 Axes>"
            ],
            "image/png": "[encoded data removed]"
          },
          "metadata": {}
        },
        {
          "output_type": "execute_result",
          "data": {
            "text/plain": [
              "Text(0.5, 1.0, 'Limpia')"
            ]
          },
          "metadata": {},
          "execution_count": 22
        },
        {
          "output_type": "display_data",
          "data": {
            "text/plain": [
              "<Figure size 1200x500 with 2 Axes>"
            ],
            "image/png": "[encoded data removed]"
          },
          "metadata": {}
        }
      ]
    }
  ]
}